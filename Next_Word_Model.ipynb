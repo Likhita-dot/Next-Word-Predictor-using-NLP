{
  "nbformat": 4,
  "nbformat_minor": 0,
  "metadata": {
    "colab": {
      "name": "prediction_next_word.ipynb",
      "provenance": [],
      "collapsed_sections": []
    },
    "kernelspec": {
      "display_name": "Python 3",
      "language": "python",
      "name": "python3"
    },
    "language_info": {
      "codemirror_mode": {
        "name": "ipython",
        "version": 3
      },
      "file_extension": ".py",
      "mimetype": "text/x-python",
      "name": "python",
      "nbconvert_exporter": "python",
      "pygments_lexer": "ipython3",
      "version": "3.7.9"
    }
  },
  "cells": [
    {
      "cell_type": "code",
      "metadata": {
        "id": "D_dxukON5aDr"
      },
      "source": [
        "from tensorflow.keras.models import load_model\n",
        "import numpy as np\n",
        "import pickle"
      ],
      "execution_count": 1,
      "outputs": []
    },
    {
      "cell_type": "markdown",
      "metadata": {
        "id": "_krftO5E8KNL"
      },
      "source": [
        "Load the Prebuild Model and the tokenizer files to test our next word predictor and we are creating the sequence of the text entered and then using our model to predict and return the the predicted word."
      ]
    },
    {
      "cell_type": "code",
      "metadata": {
        "id": "zZIJ_N1Z8VTw"
      },
      "source": [
        "model = load_model('nextword1.h5') # RNN Model \n",
        "tokenizer = pickle.load(open('tokenizer1.pkl', 'rb'))  # Dumped tokenizer\n",
        "\n",
        "def Predict_Next_Words(model, tokenizer, text):\n",
        "    for i in range(3):\n",
        "        sequence = tokenizer.texts_to_sequences([text])[0]  # Sequences the Each text to its intiger value from the trained model\n",
        "        sequence = np.array(sequence)\n",
        "        print('printing word  sequence number from trained',sequence)\n",
        "        preds = model.predict_classes(sequence)\n",
        "        predicted_word = \"\"\n",
        "        for j, value in tokenizer.word_index.items():\n",
        "            if value == preds:\n",
        "                predicted_word = j\n",
        "                break \n",
        "        print('The Predicted Next word is --- >  ',predicted_word)\n",
        "        return predicted_word"
      ],
      "execution_count": 2,
      "outputs": []
    },
    {
      "cell_type": "markdown",
      "metadata": {
        "id": "fjLug9rS9wMm"
      },
      "source": [
        "We are testing our model and we will run the model until the user decides to stop the script. While the script is running we try and check if the prediction can be made on the text. "
      ]
    },
    {
      "cell_type": "markdown",
      "metadata": {
        "id": "I09LkLg6ARQ8"
      },
      "source": [
        "Smaple Texts and their answers provided which you can try here or you can copy text from the text file Provided which is used for the trainig\n",
        "\n",
        "\n",
        "text1 = \"at the dull\" ---- Weather\n",
        "\n",
        "text2 = \"collection of textile\" ------ Clothes\n",
        "\n",
        "text3 = \"what a strenuous\" -------- career\n",
        "\n",
        "text4 = What's happened to me? ---- thought\n",
        "\n",
        "text5 = \"stop the script\""
      ]
    },
    {
      "cell_type": "code",
      "metadata": {
        "colab": {
          "base_uri": "https://localhost:8080/"
        },
        "id": "MmoryWy-0b0t",
        "outputId": "e3ded9ca-90e2-40d3-8769-003e9c89a8b0"
      },
      "source": [
        "# text5 = \"stop the script\"\n",
        "while(True):\n",
        "    text = input(\"Enter your line: \")\n",
        "    if text == \"stop the script\":\n",
        "        print(\"Ending The Program.....\")\n",
        "        break\n",
        "    else:\n",
        "        try:\n",
        "            text = text.split(\" \") # Splitting the sentence \n",
        "            text = text[-1]\n",
        "           # print('printing the last word form the entered sentence',text)\n",
        "            text = ''.join(text)\n",
        "            Predict_Next_Words(model, tokenizer, text)  # Function call\n",
        "            \n",
        "        except:\n",
        "            continue"
      ],
      "execution_count": 3,
      "outputs": [
        {
          "output_type": "stream",
          "text": [
            "Enter your line: What's happened to me?\n",
            "printing word  sequence number from trained [63]\n",
            "WARNING:tensorflow:From <ipython-input-2-8955af123043>:9: Sequential.predict_classes (from tensorflow.python.keras.engine.sequential) is deprecated and will be removed after 2021-01-01.\n",
            "Instructions for updating:\n",
            "Please use instead:* `np.argmax(model.predict(x), axis=-1)`,   if your model does multi-class classification   (e.g. if it uses a `softmax` last-layer activation).* `(model.predict(x) > 0.5).astype(\"int32\")`,   if your model does binary classification   (e.g. if it uses a `sigmoid` last-layer activation).\n",
            "The Predicted Next word is --- >   thought\n",
            "Enter your line: what a strenuous\n",
            "printing word  sequence number from trained [809]\n",
            "The Predicted Next word is --- >   career\n",
            "Enter your line: at the dull\n",
            "printing word  sequence number from trained [785]\n",
            "The Predicted Next word is --- >   weather\n",
            "Enter your line: stop the script\n",
            "Ending The Program.....\n"
          ],
          "name": "stdout"
        }
      ]
    }
  ]
}